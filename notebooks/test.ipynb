{
 "cells": [
  {
   "cell_type": "code",
   "execution_count": null,
   "id": "ab70534d",
   "metadata": {},
   "outputs": [],
   "source": [
    "%load_ext autoreload\n",
    "%autoreload 2\n",
    "\n",
    "import os\n",
    "import torch\n",
    "from openfold.config import model_config\n",
    "from openfold.data import mmcif_parsing\n",
    "from openfold.data.data_pipeline import DataPipeline\n",
    "from openfold.data.feature_pipeline import FeaturePipeline\n",
    "from openfold.model.model import AlphaFold\n",
    "from openfold.utils.loss import AlphaFoldLoss"
   ]
  },
  {
   "cell_type": "code",
   "execution_count": null,
   "id": "b3cff6a7",
   "metadata": {},
   "outputs": [],
   "source": [
    "cfg = model_config(\"model_5\")\n",
    "af = AlphaFold(cfg)\n",
    "_ = af.eval()"
   ]
  },
  {
   "cell_type": "code",
   "execution_count": null,
   "id": "2db192f8",
   "metadata": {},
   "outputs": [],
   "source": [
    "dp = DataPipeline(None)\n",
    "fp = FeaturePipeline(cfg.data)"
   ]
  },
  {
   "cell_type": "code",
   "execution_count": null,
   "id": "054e38c3",
   "metadata": {},
   "outputs": [],
   "source": [
    "# TODO calculate overhead of mmcif file parsing.\n",
    "f = dp.process_mmcif_file(\"../openfold/resources/1ecm.cif\", \".\")\n",
    "pf = fp.process_features(f, mode=\"eval\")"
   ]
  },
  {
   "cell_type": "code",
   "execution_count": null,
   "id": "a5860580",
   "metadata": {},
   "outputs": [],
   "source": [
    "with torch.no_grad():\n",
    "    out = af(pf)"
   ]
  },
  {
   "cell_type": "code",
   "execution_count": null,
   "id": "ee4eefa2",
   "metadata": {},
   "outputs": [],
   "source": [
    "out"
   ]
  }
 ],
 "metadata": {
  "kernelspec": {
   "display_name": "Python 3 (ipykernel)",
   "language": "python",
   "name": "python3"
  },
  "language_info": {
   "codemirror_mode": {
    "name": "ipython",
    "version": 3
   },
   "file_extension": ".py",
   "mimetype": "text/x-python",
   "name": "python",
   "nbconvert_exporter": "python",
   "pygments_lexer": "ipython3",
   "version": "3.8.9"
  }
 },
 "nbformat": 4,
 "nbformat_minor": 5
}
